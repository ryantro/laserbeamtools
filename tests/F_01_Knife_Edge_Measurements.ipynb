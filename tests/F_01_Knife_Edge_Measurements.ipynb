{
 "cells": [
  {
   "cell_type": "markdown",
   "metadata": {},
   "source": [
    "# Knife Edge Measurements Testing\n",
    "---"
   ]
  },
  {
   "cell_type": "code",
   "execution_count": 2,
   "metadata": {},
   "outputs": [
    {
     "ename": "ModuleNotFoundError",
     "evalue": "No module named 'laserbeamsize'",
     "output_type": "error",
     "traceback": [
      "\u001b[1;31m---------------------------------------------------------------------------\u001b[0m",
      "\u001b[1;31mModuleNotFoundError\u001b[0m                       Traceback (most recent call last)",
      "\u001b[1;32mc:\\Users\\ryan.robinson\\Documents\\GitHub\\laserbeamtools\\tests\\F_01_Knife_Edge_Measurements.ipynb Cell 2\u001b[0m line \u001b[0;36m1\n\u001b[0;32m      <a href='vscode-notebook-cell:/c%3A/Users/ryan.robinson/Documents/GitHub/laserbeamtools/tests/F_01_Knife_Edge_Measurements.ipynb#W1sZmlsZQ%3D%3D?line=7'>8</a>\u001b[0m \u001b[39m# Import from this directory so we can rapidly test\u001b[39;00m\n\u001b[0;32m      <a href='vscode-notebook-cell:/c%3A/Users/ryan.robinson/Documents/GitHub/laserbeamtools/tests/F_01_Knife_Edge_Measurements.ipynb#W1sZmlsZQ%3D%3D?line=8'>9</a>\u001b[0m sys\u001b[39m.\u001b[39mpath\u001b[39m.\u001b[39mappend(\u001b[39m'\u001b[39m\u001b[39m../\u001b[39m\u001b[39m'\u001b[39m)\n\u001b[1;32m---> <a href='vscode-notebook-cell:/c%3A/Users/ryan.robinson/Documents/GitHub/laserbeamtools/tests/F_01_Knife_Edge_Measurements.ipynb#W1sZmlsZQ%3D%3D?line=9'>10</a>\u001b[0m \u001b[39mimport\u001b[39;00m \u001b[39mlaserbeamtools\u001b[39;00m \u001b[39mas\u001b[39;00m \u001b[39mlbs\u001b[39;00m\n\u001b[0;32m     <a href='vscode-notebook-cell:/c%3A/Users/ryan.robinson/Documents/GitHub/laserbeamtools/tests/F_01_Knife_Edge_Measurements.ipynb#W1sZmlsZQ%3D%3D?line=13'>14</a>\u001b[0m \u001b[39m# Lets load in some test images\u001b[39;00m\n\u001b[0;32m     <a href='vscode-notebook-cell:/c%3A/Users/ryan.robinson/Documents/GitHub/laserbeamtools/tests/F_01_Knife_Edge_Measurements.ipynb#W1sZmlsZQ%3D%3D?line=14'>15</a>\u001b[0m folder \u001b[39m=\u001b[39m \u001b[39mr\u001b[39m\u001b[39m'\u001b[39m\u001b[39m../tests/test_beam_profiles/DAS\u001b[39m\u001b[39m'\u001b[39m\n",
      "File \u001b[1;32mc:\\Users\\ryan.robinson\\Documents\\GitHub\\laserbeamtools\\tests\\..\\laserbeamtools\\__init__.py:33\u001b[0m\n\u001b[0;32m     30\u001b[0m __license__ \u001b[39m=\u001b[39m \u001b[39m'\u001b[39m\u001b[39mMIT\u001b[39m\u001b[39m'\u001b[39m\n\u001b[0;32m     31\u001b[0m __url__ \u001b[39m=\u001b[39m \u001b[39m'\u001b[39m\u001b[39mhttps://github.com/scottprahl/laserbeamsize\u001b[39m\u001b[39m'\u001b[39m\n\u001b[1;32m---> 33\u001b[0m \u001b[39mfrom\u001b[39;00m \u001b[39m.\u001b[39;00m\u001b[39mmasks\u001b[39;00m \u001b[39mimport\u001b[39;00m \u001b[39m*\u001b[39m\n\u001b[0;32m     34\u001b[0m \u001b[39mfrom\u001b[39;00m \u001b[39m.\u001b[39;00m\u001b[39mimage_tools\u001b[39;00m \u001b[39mimport\u001b[39;00m \u001b[39m*\u001b[39m\n\u001b[0;32m     35\u001b[0m \u001b[39mfrom\u001b[39;00m \u001b[39m.\u001b[39;00m\u001b[39mbackground\u001b[39;00m \u001b[39mimport\u001b[39;00m \u001b[39m*\u001b[39m\n",
      "File \u001b[1;32mc:\\Users\\ryan.robinson\\Documents\\GitHub\\laserbeamtools\\tests\\..\\laserbeamtools\\masks.py:13\u001b[0m\n\u001b[0;32m     11\u001b[0m \u001b[39mimport\u001b[39;00m \u001b[39mnumpy\u001b[39;00m \u001b[39mas\u001b[39;00m \u001b[39mnp\u001b[39;00m\n\u001b[0;32m     12\u001b[0m \u001b[39mfrom\u001b[39;00m \u001b[39mPIL\u001b[39;00m \u001b[39mimport\u001b[39;00m Image, ImageDraw\n\u001b[1;32m---> 13\u001b[0m \u001b[39mimport\u001b[39;00m \u001b[39mlaserbeamsize\u001b[39;00m \u001b[39mas\u001b[39;00m \u001b[39mlbs\u001b[39;00m\n\u001b[0;32m     15\u001b[0m __all__ \u001b[39m=\u001b[39m (\u001b[39m'\u001b[39m\u001b[39mcorner_mask\u001b[39m\u001b[39m'\u001b[39m,\n\u001b[0;32m     16\u001b[0m            \u001b[39m'\u001b[39m\u001b[39mperimeter_mask\u001b[39m\u001b[39m'\u001b[39m,\n\u001b[0;32m     17\u001b[0m            \u001b[39m'\u001b[39m\u001b[39mrotated_rect_mask\u001b[39m\u001b[39m'\u001b[39m,\n\u001b[0;32m     18\u001b[0m            \u001b[39m'\u001b[39m\u001b[39melliptical_mask\u001b[39m\u001b[39m'\u001b[39m,\n\u001b[0;32m     19\u001b[0m            \u001b[39m'\u001b[39m\u001b[39miso_background_mask\u001b[39m\u001b[39m'\u001b[39m,\n\u001b[0;32m     20\u001b[0m            )\n\u001b[0;32m     23\u001b[0m \u001b[39mdef\u001b[39;00m \u001b[39melliptical_mask\u001b[39m(image, xc, yc, dx, dy, phi):\n",
      "\u001b[1;31mModuleNotFoundError\u001b[0m: No module named 'laserbeamsize'"
     ]
    }
   ],
   "source": [
    "import sys\n",
    "import os\n",
    "# from inspect import getmembers, isfunction\n",
    "import numpy as np\n",
    "from PIL import Image\n",
    "import matplotlib.pyplot as plt\n",
    "\n",
    "# Import from this directory so we can rapidly test\n",
    "sys.path.append('../laserbeamtools')\n",
    "import laserbeamtools as lbs\n",
    "\n",
    "\n",
    "\n",
    "# Lets load in some test images\n",
    "folder = r'../tests/test_beam_profiles/DAS'\n",
    "nf1 = folder + '/' + r'nf_100_1234.bmp'\n",
    "\n",
    "print(os.path.isfile(nf1))\n",
    "\n",
    "iobj = Image.open(nf1)\n",
    "img = np.asarray(iobj)\n",
    "\n",
    "# x, y, dx, dy, phi = lbs.beam_size(img)\n",
    "# print(\"The center of the beam ellipse is at (%.0f, %.0f)\" % (x, y))\n",
    "# print(\"The ellipse diameter (closest to horizontal) is %.0f pixels\" % dx)\n",
    "# print(\"The ellipse diameter (closest to   vertical) is %.0f pixels\" % dy)\n",
    "# print(\"The ellipse is rotated %.0f° ccw from the horizontal\" % (phi * 180/3.1416))\n",
    "\n",
    "# lbs.plot_image_analysis(beam)\n",
    "lbs.beam_size_plot(img)\n",
    "plt.show()\n",
    "print(\"Test\")"
   ]
  },
  {
   "cell_type": "markdown",
   "metadata": {},
   "source": []
  },
  {
   "cell_type": "markdown",
   "metadata": {},
   "source": [
    "# "
   ]
  }
 ],
 "metadata": {
  "kernelspec": {
   "display_name": "base",
   "language": "python",
   "name": "python3"
  },
  "language_info": {
   "codemirror_mode": {
    "name": "ipython",
    "version": 3
   },
   "file_extension": ".py",
   "mimetype": "text/x-python",
   "name": "python",
   "nbconvert_exporter": "python",
   "pygments_lexer": "ipython3",
   "version": "3.9.7"
  }
 },
 "nbformat": 4,
 "nbformat_minor": 2
}
