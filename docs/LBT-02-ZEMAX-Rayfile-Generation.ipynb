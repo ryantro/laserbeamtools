{
 "cells": [
  {
   "cell_type": "markdown",
   "metadata": {},
   "source": [
    "# ZEMAX Rayfile Generation"
   ]
  },
  {
   "cell_type": "code",
   "execution_count": 11,
   "metadata": {},
   "outputs": [
    {
     "name": "stdout",
     "output_type": "stream",
     "text": [
      "['100dc.txt', 'FF CW Row 1&2_0001.ascii.csv', 'FF CW Row 3&4_0001.ascii.csv', 'NF CW Row 1&2_0001.ascii.csv', 'NF CW Row 3&4_0001.ascii.csv']\n"
     ]
    },
    {
     "data": {
      "text/plain": [
       "<matplotlib.image.AxesImage at 0x1b7a233fc10>"
      ]
     },
     "execution_count": 11,
     "metadata": {},
     "output_type": "execute_result"
    },
    {
     "data": {
      "image/png": "[encoded data removed]",
      "text/plain": [
       "<Figure size 640x480 with 1 Axes>"
      ]
     },
     "metadata": {},
     "output_type": "display_data"
    }
   ],
   "source": [
    "import os\n",
    "import numpy as np\n",
    "import matplotlib.pyplot as plt\n",
    "\n",
    "# Create a list of the files\n",
    "folder = r'../tests/test_beam_profiles/For_Rayfile_Gen/22'\n",
    "print(os.listdir(folder))\n",
    "\n",
    "# Far field images\n",
    "ff1_file = '/'.join([folder,r'FF CW Row 1&2_0001.ascii.csv'])\n",
    "ff2_file = '/'.join([folder,r'FF CW Row 3&4_0001.ascii.csv'])\n",
    "\n",
    "# Near field images\n",
    "nf1_file = '/'.join([folder,r'NF CW Row 1&2_0001.ascii.csv'])\n",
    "nf2_file = '/'.join([folder,r'NF CW Row 3&4_0001.ascii.csv'])\n",
    "\n",
    "# Spectrum\n",
    "spectrum_file = '/'.join([folder, r'100dc.txt'])\n",
    "\n",
    "# Read spectrum method\n",
    "def open_spectrum(file_name):\n",
    "    x = []\n",
    "    y = []\n",
    "    with open(file_name,\"r\") as file:\n",
    "        data=file.read()\n",
    "        dataList = data.split('\\n')\n",
    "        for i in range(1,len(dataList)-1):\n",
    "            temp = dataList[i].split('\\t')\n",
    "            x.append(float(temp[0]))\n",
    "            y.append(float(temp[1]))\n",
    "    x = np.asarray(x)\n",
    "    y = np.asarray(y)\n",
    "    return x, y\n",
    "\n",
    "# Parse ASCII File\n",
    "def parseAscii(filename):\n",
    "    slens = []\n",
    "    A = []\n",
    "    with open(filename) as f:\n",
    "        for rows in f:\n",
    "            s = rows.split(',')\n",
    "            slens.append(len(s))\n",
    "        maxlen = max(slens)    \n",
    "    with open(filename) as f:\n",
    "        for rows in f:\n",
    "            s1 = rows.strip('\\n')\n",
    "            s = s1.split(',')\n",
    "            for i in range(0,maxlen):\n",
    "                if (i >= len(s)):\n",
    "                    s.append(0.0)\n",
    "                elif (s[i] == ''):\n",
    "                    s[i] = 0.0\n",
    "                else:\n",
    "                    s[i] = float(s[i])\n",
    "                i = i+1\n",
    "            A.append(s)\n",
    "    B = np.array(A)\n",
    "    return B\n",
    "\n",
    "# generate lists\n",
    "spec_x, spec_y = open_spectrum(spectrum_file)\n",
    "\n",
    "# Trim spectrum file\n",
    "indexs = (spec_x < 460) & (spec_x > 430)\n",
    "spec_x_t = spec_x[indexs]\n",
    "spec_y_t = spec_y[indexs]\n",
    "\n",
    "# Generate Near Field Arrays\n",
    "nf1 = parseAscii(nf1_file)\n",
    "nf2 = parseAscii(nf2_file)\n",
    "\n",
    "# Averaged image\n",
    "nf = ((nf1/np.sum(nf1)) + (nf2/np.sum(nf2))) * 0.5\n",
    "\n",
    "# Generate Far Field Arrays\n",
    "ff1 = parseAscii(ff1_file)\n",
    "ff2 = parseAscii(ff2_file)\n",
    "\n",
    "# Averaged image\n",
    "ff = ((ff1/np.sum(ff1)) + (ff2/np.sum(ff2))) * 0.5\n",
    "\n",
    "plt.imshow(ff)"
   ]
  },
  {
   "cell_type": "code",
   "execution_count": null,
   "metadata": {},
   "outputs": [],
   "source": [
    "fig, axs = plt.subplots(2, 2, figsize=(18, 12))\n",
    "fig.suptitle(title, fontsize=30)\n",
    "\n",
    "plt.plot(spec_x,spec_y)"
   ]
  }
 ],
 "metadata": {
  "kernelspec": {
   "display_name": "base",
   "language": "python",
   "name": "python3"
  },
  "language_info": {
   "codemirror_mode": {
    "name": "ipython",
    "version": 3
   },
   "file_extension": ".py",
   "mimetype": "text/x-python",
   "name": "python",
   "nbconvert_exporter": "python",
   "pygments_lexer": "ipython3",
   "version": "3.9.7"
  }
 },
 "nbformat": 4,
 "nbformat_minor": 2
}
